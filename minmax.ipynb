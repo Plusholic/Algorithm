{
 "cells": [
  {
   "cell_type": "code",
   "execution_count": 7,
   "metadata": {},
   "outputs": [
    {
     "name": "stdout",
     "output_type": "stream",
     "text": [
      "7 35\n"
     ]
    }
   ],
   "source": [
    "# 10818\n",
    "N = int(input(''))\n",
    "number = list(map(int, input('').split()))\n",
    "\n",
    "min_num = number[0]\n",
    "max_num = number[0]\n",
    "\n",
    "for i in range(N):\n",
    "    if min_num > number[i]:\n",
    "        min_num = number[i]\n",
    "\n",
    "    elif max_num < number[i]:\n",
    "        max_num = number[i]\n",
    "        \n",
    "print(min_num, max_num)"
   ]
  },
  {
   "cell_type": "code",
   "execution_count": 9,
   "metadata": {},
   "outputs": [
    {
     "name": "stdout",
     "output_type": "stream",
     "text": [
      "85\n",
      "8\n"
     ]
    }
   ],
   "source": [
    "#2562\n",
    "numbers = []\n",
    "max_num = 0\n",
    "for i in range(9):\n",
    "    a = int(input(''))\n",
    "    \n",
    "    if  a > max_num:\n",
    "        max_loc = i+1\n",
    "        max_num = a\n",
    "\n",
    "print(max_num)\n",
    "print(max_loc)\n",
    "\n",
    "#another\n",
    "print(*max((int(input()),i+1)for i in range(9)))"
   ]
  },
  {
   "cell_type": "code",
   "execution_count": null,
   "metadata": {},
   "outputs": [],
   "source": []
  }
 ],
 "metadata": {
  "interpreter": {
   "hash": "b525420d7f60fd7a6b6a54f4f8e692b119c03ca2dda12ba35c25c2e9106f1417"
  },
  "kernelspec": {
   "display_name": "Python 3.8.5 ('DL')",
   "language": "python",
   "name": "python3"
  },
  "language_info": {
   "codemirror_mode": {
    "name": "ipython",
    "version": 3
   },
   "file_extension": ".py",
   "mimetype": "text/x-python",
   "name": "python",
   "nbconvert_exporter": "python",
   "pygments_lexer": "ipython3",
   "version": "3.8.5"
  },
  "orig_nbformat": 4
 },
 "nbformat": 4,
 "nbformat_minor": 2
}
