{
 "cells": [
  {
   "cell_type": "code",
   "execution_count": 1,
   "metadata": {},
   "outputs": [
    {
     "name": "stdout",
     "output_type": "stream",
     "text": [
      "<\n"
     ]
    }
   ],
   "source": [
    "#1330\n",
    "A, B = input('').split()\n",
    "A = int(A)\n",
    "B = int(B)\n",
    "\n",
    "if A > B:\n",
    "    print('>')\n",
    "    \n",
    "elif A < B:\n",
    "    print('<')\n",
    "    \n",
    "elif A == B:\n",
    "    print('==')"
   ]
  },
  {
   "cell_type": "code",
   "execution_count": 3,
   "metadata": {},
   "outputs": [
    {
     "name": "stdout",
     "output_type": "stream",
     "text": [
      "A\n"
     ]
    }
   ],
   "source": [
    "#9498\n",
    "score = input('')\n",
    "score = int(score)\n",
    "if (score >= 90) & (score <= 100):\n",
    "    print('A')\n",
    "elif (score >= 80) & (score <= 89):\n",
    "    print('B')\n",
    "elif (score >= 70) & (score <= 79):\n",
    "    print('C')\n",
    "elif (score >= 60) & (score <= 69):\n",
    "    print('D')\n",
    "else:\n",
    "    print('F')"
   ]
  },
  {
   "cell_type": "code",
   "execution_count": 9,
   "metadata": {},
   "outputs": [
    {
     "name": "stdout",
     "output_type": "stream",
     "text": [
      "1\n"
     ]
    }
   ],
   "source": [
    "#2753\n",
    "year = input('')\n",
    "year = int(year)\n",
    "\n",
    "if (year%4 == 0) & (year%100 != 0):\n",
    "    print(1)\n",
    "elif year%400 == 0:\n",
    "    print(1)\n",
    "else:\n",
    "    print(0)"
   ]
  },
  {
   "cell_type": "code",
   "execution_count": 16,
   "metadata": {},
   "outputs": [
    {
     "ename": "SyntaxError",
     "evalue": "invalid syntax (<ipython-input-16-190cecb0797c>, line 3)",
     "output_type": "error",
     "traceback": [
      "\u001b[1;36m  File \u001b[1;32m\"<ipython-input-16-190cecb0797c>\"\u001b[1;36m, line \u001b[1;32m3\u001b[0m\n\u001b[1;33m    y = int(input(''))/\u001b[0m\n\u001b[1;37m                       ^\u001b[0m\n\u001b[1;31mSyntaxError\u001b[0m\u001b[1;31m:\u001b[0m invalid syntax\n"
     ]
    }
   ],
   "source": [
    "#14681\n",
    "x = int(input(''))\n",
    "y = int(input(''))/\n",
    "\n",
    "if (x > 0) & (y > 0):\n",
    "    print(1)\n",
    "elif (x < 0) & (y > 0):\n",
    "    print(2)\n",
    "elif (x < 0) & (y < 0):\n",
    "    print(3)\n",
    "elif (x > 0) & (y < 0):\n",
    "    print(4)"
   ]
  },
  {
   "cell_type": "code",
   "execution_count": 18,
   "metadata": {},
   "outputs": [
    {
     "data": {
      "text/plain": [
       "1"
      ]
     },
     "execution_count": 18,
     "metadata": {},
     "output_type": "execute_result"
    }
   ],
   "source": [
    "1%5"
   ]
  },
  {
   "cell_type": "code",
   "execution_count": 22,
   "metadata": {},
   "outputs": [
    {
     "name": "stdout",
     "output_type": "stream",
     "text": [
      "22 55\n"
     ]
    }
   ],
   "source": [
    "#2884\n",
    "H, M = input('').split()\n",
    "H = int(H)\n",
    "M = int(M)\n",
    "\n",
    "H1 = (H*60 + M - 45)//60\n",
    "M1 = (H*60 + M - 45)%60\n",
    "\n",
    "if H1 <0:\n",
    "    H1 = 24+H1\n",
    "if M1<0:\n",
    "    M1 = 60+M1\n",
    "\n",
    "print(H1, M1)"
   ]
  },
  {
   "cell_type": "code",
   "execution_count": 25,
   "metadata": {},
   "outputs": [
    {
     "name": "stdout",
     "output_type": "stream",
     "text": [
      "0 13\n"
     ]
    }
   ],
   "source": [
    "#2525\n",
    "A, B = input('').split()\n",
    "C = input('')\n",
    "A = int(A)\n",
    "B = int(B)\n",
    "C = int(C)\n",
    "\n",
    "H = (A*60 + B + C)//60\n",
    "M = (A*60 + B + C)%60\n",
    "\n",
    "if H >= 24:\n",
    "    H = H-24\n",
    "\n",
    "print(H, M)"
   ]
  },
  {
   "cell_type": "code",
   "execution_count": 30,
   "metadata": {},
   "outputs": [
    {
     "name": "stdout",
     "output_type": "stream",
     "text": [
      "600\n"
     ]
    }
   ],
   "source": [
    "#2480\n",
    "A, B, C = input('').split()\n",
    "A, B, C = int(A), int(B), int(C)\n",
    "\n",
    "ct = 0\n",
    "if (A == B) & (C == B):\n",
    "    print(10000 + 1000* A)\n",
    "elif A == C:\n",
    "    print(1000 + 100 * A)\n",
    "elif B == C:\n",
    "    print(1000 + 100 * B)\n",
    "elif A == B:\n",
    "    print(1000 + 100 * B)\n",
    "else:\n",
    "    print(max([100*A, 100*B, 100*C]))        "
   ]
  },
  {
   "cell_type": "code",
   "execution_count": null,
   "metadata": {},
   "outputs": [],
   "source": []
  }
 ],
 "metadata": {
  "interpreter": {
   "hash": "5fcc2d6f25dee36617bfc4ccd7dabf4f7d80fca5d05ebd2a6c4213843696c2cc"
  },
  "kernelspec": {
   "display_name": "Python 3.8.5 ('base')",
   "language": "python",
   "name": "python3"
  },
  "language_info": {
   "codemirror_mode": {
    "name": "ipython",
    "version": 3
   },
   "file_extension": ".py",
   "mimetype": "text/x-python",
   "name": "python",
   "nbconvert_exporter": "python",
   "pygments_lexer": "ipython3",
   "version": "3.8.5"
  },
  "orig_nbformat": 4
 },
 "nbformat": 4,
 "nbformat_minor": 2
}
