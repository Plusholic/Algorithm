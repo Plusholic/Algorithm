{
 "cells": [
  {
   "cell_type": "code",
   "execution_count": null,
   "metadata": {},
   "outputs": [],
   "source": [
    "#2739\n",
    "num = int(input(''))\n",
    "\n",
    "for i in range(9):\n",
    "    print(str(num) +  ' * ' +  str(i+1) + ' = ' + str(num*(i+1)))"
   ]
  },
  {
   "cell_type": "code",
   "execution_count": null,
   "metadata": {},
   "outputs": [],
   "source": [
    "#10950\n",
    "test_num = int(input(''))\n",
    "A_list, B_list = [], []\n",
    "for i in range(test_num):\n",
    "    A, B = input('').split()\n",
    "    A = int(A)\n",
    "    B = int(B)\n",
    "    \n",
    "    A_list.append(A)\n",
    "    B_list.append(B)\n",
    "    \n",
    "for i in range(test_num):    \n",
    "    print(A_list[i]+B_list[i])"
   ]
  },
  {
   "cell_type": "code",
   "execution_count": null,
   "metadata": {},
   "outputs": [],
   "source": [
    "#8393\n",
    "n = int(input(''))\n",
    "\n",
    "print(int((1 + n)/2*n))"
   ]
  },
  {
   "cell_type": "code",
   "execution_count": null,
   "metadata": {},
   "outputs": [],
   "source": [
    "# 15552\n",
    "import sys\n",
    " \n",
    "inp = int(input())\n",
    "for i in range(inp):\n",
    "        a,b = map(int, sys.stdin.readline().split())\n",
    "        print(a+b)\n"
   ]
  },
  {
   "cell_type": "code",
   "execution_count": null,
   "metadata": {},
   "outputs": [],
   "source": [
    "#2741\n",
    "N = int(input(''))\n",
    "\n",
    "for i in range(N):\n",
    "    print(i+1)"
   ]
  },
  {
   "cell_type": "code",
   "execution_count": null,
   "metadata": {},
   "outputs": [],
   "source": [
    "#2742\n",
    "N = int(input(''))\n",
    "\n",
    "for i in range(N):\n",
    "    print(N-i)"
   ]
  },
  {
   "cell_type": "code",
   "execution_count": null,
   "metadata": {},
   "outputs": [],
   "source": [
    "# 11021\n",
    "\n",
    "N = int(input(''))\n",
    "\n",
    "for i in range(N):\n",
    "    A, B = input('').split()\n",
    "    A = int(A)\n",
    "    B = int(B)\n",
    "    print('Case #' + str(i+1) + ': ' + str(A+B))"
   ]
  },
  {
   "cell_type": "code",
   "execution_count": null,
   "metadata": {},
   "outputs": [],
   "source": [
    "# 11022\n",
    "\n",
    "N = int(input(''))\n",
    "\n",
    "for i in range(N):\n",
    "    A, B = input('').split()\n",
    "    A = int(A)\n",
    "    B = int(B)\n",
    "    print('Case #' + str(i+1) + ': ' + str(A) + ' + ' + str(B) + ' = ' + str(A+B))"
   ]
  },
  {
   "cell_type": "code",
   "execution_count": 3,
   "metadata": {},
   "outputs": [
    {
     "name": "stdout",
     "output_type": "stream",
     "text": [
      "*\n",
      "**\n",
      "***\n",
      "****\n",
      "*****\n"
     ]
    }
   ],
   "source": [
    "#2438\n",
    "N = input('')\n",
    "N = int(N)\n",
    "\n",
    "for i in range(N):\n",
    "    print('*'*(i+1))"
   ]
  },
  {
   "cell_type": "code",
   "execution_count": 5,
   "metadata": {},
   "outputs": [
    {
     "name": "stdout",
     "output_type": "stream",
     "text": [
      "    *\n",
      "   **\n",
      "  ***\n",
      " ****\n",
      "*****\n"
     ]
    }
   ],
   "source": [
    "#2438\n",
    "N = input('')\n",
    "N = int(N)\n",
    "\n",
    "for i in range(N):\n",
    "    print(' '*(N-i-1) + '*'*(i+1))"
   ]
  },
  {
   "cell_type": "code",
   "execution_count": 16,
   "metadata": {},
   "outputs": [
    {
     "name": "stdout",
     "output_type": "stream",
     "text": [
      "1 4 2 3 "
     ]
    }
   ],
   "source": [
    "#10871\n",
    "\n",
    "N, X = input('').split()\n",
    "N = int(N)\n",
    "X = int(X)\n",
    "\n",
    "A1,A2,A3,A4,A5,A6,A7,A8,A9,A10 = input('').split()\n",
    "A = [A1,A2,A3,A4,A5,A6,A7,A8,A9,A10]\n",
    "for i in range(len(A)):\n",
    "    if X > int(A[i]):\n",
    "        print(int(A[i]) , end = ' ')"
   ]
  },
  {
   "cell_type": "code",
   "execution_count": 18,
   "metadata": {},
   "outputs": [
    {
     "name": "stdout",
     "output_type": "stream",
     "text": [
      "1 4 2 3 "
     ]
    }
   ],
   "source": [
    "N, X = map(int,input().split())\n",
    "A = list(map(int,input().split()[:N]))\n",
    "for i in A:\n",
    "    if i < X:\n",
    "        print(i , end = ' ')"
   ]
  },
  {
   "cell_type": "code",
   "execution_count": 3,
   "metadata": {},
   "outputs": [
    {
     "name": "stdout",
     "output_type": "stream",
     "text": [
      "2\n"
     ]
    }
   ],
   "source": [
    "#10952\n",
    "\n",
    "while True:\n",
    "    A, B = map(int,input().split())\n",
    "    if (A != 0) & (B != 0):\n",
    "        print(A + B)\n",
    "    else:\n",
    "        break"
   ]
  }
 ],
 "metadata": {
  "interpreter": {
   "hash": "b525420d7f60fd7a6b6a54f4f8e692b119c03ca2dda12ba35c25c2e9106f1417"
  },
  "kernelspec": {
   "display_name": "Python 3.8.5 ('DL')",
   "language": "python",
   "name": "python3"
  },
  "language_info": {
   "codemirror_mode": {
    "name": "ipython",
    "version": 3
   },
   "file_extension": ".py",
   "mimetype": "text/x-python",
   "name": "python",
   "nbconvert_exporter": "python",
   "pygments_lexer": "ipython3",
   "version": "3.8.5"
  },
  "orig_nbformat": 4
 },
 "nbformat": 4,
 "nbformat_minor": 2
}
