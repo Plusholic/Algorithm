{
  "cells": [
    {
      "cell_type": "code",
      "execution_count": 1,
      "metadata": {},
      "outputs": [
        {
          "name": "stdout",
          "output_type": "stream",
          "text": [
            "7 35\n"
          ]
        }
      ],
      "source": [
        "# 10818\n",
        "N = int(input(''))\n",
        "number = list(map(int, input('').split()))\n",
        "\n",
        "min_num = number[0]\n",
        "max_num = number[0]\n",
        "\n",
        "for i in range(N):\n",
        "    if min_num > number[i]:\n",
        "        min_num = number[i]\n",
        "\n",
        "    elif max_num < number[i]:\n",
        "        max_num = number[i]\n",
        "        \n",
        "print(min_num, max_num)"
      ]
    },
    {
      "cell_type": "code",
      "execution_count": 3,
      "metadata": {},
      "outputs": [
        {
          "name": "stdout",
          "output_type": "stream",
          "text": [
            "85\n",
            "8\n"
          ]
        }
      ],
      "source": [
        "#2562\n",
        "numbers = []\n",
        "max_num = 0\n",
        "for i in range(9):\n",
        "    a = int(input(''))\n",
        "    \n",
        "    if  a > max_num:\n",
        "        max_loc = i+1\n",
        "        max_num = a\n",
        "\n",
        "print(max_num)\n",
        "print(max_loc)\n",
        "\n",
        "#another\n",
        "# print(*max((int(input()),i+1)for i in range(9)))"
      ]
    },
    {
      "cell_type": "code",
      "execution_count": null,
      "metadata": {
        "colab": {
          "base_uri": "https://localhost:8080/"
        },
        "id": "EfdxxdFKogKK",
        "outputId": "33522882-9f97-4e6a-ec1f-daf445d9a702"
      },
      "outputs": [
        {
          "name": "stdout",
          "output_type": "stream",
          "text": [
            "150\n",
            "266\n",
            "427\n",
            "3\n",
            "1\n",
            "0\n",
            "2\n",
            "0\n",
            "0\n",
            "0\n",
            "2\n",
            "0\n",
            "0\n"
          ]
        }
      ],
      "source": [
        "#2577\n",
        "from collections import Counter\n",
        "\n",
        "A=int(input())\n",
        "B=int(input())\n",
        "C=int(input())\n",
        "\n",
        "# A * B * C 를 문자화시켜서 갯수를 세줌\n",
        "output = A * B * C\n",
        "str_list = Counter(str(output))\n",
        "str_keys = list(str_list.keys())\n",
        "\n",
        "# 1~9까지의 숫자가 몇번 쓰였는지 출력\n",
        "for i in range(0, 10):\n",
        "  if str(i) in str_keys:\n",
        "    for keys in str_keys:\n",
        "      if keys == str(i):\n",
        "        print(str_list[keys])\n",
        "  else:\n",
        "    print('0')"
      ]
    },
    {
      "cell_type": "code",
      "execution_count": null,
      "metadata": {
        "colab": {
          "base_uri": "https://localhost:8080/"
        },
        "id": "0dVKmbvm_AQv",
        "outputId": "d0baecd1-3a5c-4a40-ea96-d55a2708d644"
      },
      "outputs": [
        {
          "name": "stdout",
          "output_type": "stream",
          "text": [
            "1\n",
            "2\n",
            "3\n",
            "4\n",
            "5\n",
            "6\n",
            "7\n",
            "8\n",
            "9\n",
            "10\n",
            "10\n"
          ]
        }
      ],
      "source": [
        "# 3052\n",
        "from collections import Counter\n",
        "\n",
        "# 입력을 받고 42로 나눈 나머지를 counter_list에 저장\n",
        "counter_list = []\n",
        "for _ in range(10):\n",
        "  num=int(input())\n",
        "  counter_list.append(num % 42)\n",
        "\n",
        "# counter_list의 key의 갯수를 세면 서로 다른 나머지의 갯수가 나옴\n",
        "print(len(Counter(counter_list).keys()))"
      ]
    },
    {
      "cell_type": "code",
      "execution_count": null,
      "metadata": {
        "colab": {
          "base_uri": "https://localhost:8080/"
        },
        "id": "mcy80JohvINN",
        "outputId": "e9a324f6-3c64-427e-fb53-5b5726937cfc"
      },
      "outputs": [
        {
          "name": "stdout",
          "output_type": "stream",
          "text": [
            "3\n",
            "10 20 30\n",
            "66.66666666666667\n"
          ]
        }
      ],
      "source": [
        "#1546\n",
        "number = int(input())\n",
        "scores = list(map(int, input().split()))\n",
        "\n",
        "max_score = max(scores)\n",
        "re_score = 0\n",
        "\n",
        "# 새로운 공식대로 score를 구해서 합해줌\n",
        "for score in scores:\n",
        "  tmp = score/max_score*100\n",
        "  re_score += tmp\n",
        "\n",
        "# 갯수로 나눠서 평균 계산\n",
        "print(re_score/number)"
      ]
    },
    {
      "cell_type": "code",
      "execution_count": 25,
      "metadata": {
        "colab": {
          "base_uri": "https://localhost:8080/"
        },
        "id": "d6tr3Ok00E4W",
        "outputId": "98f26032-c4da-4d63-d80e-54f2373fbaab"
      },
      "outputs": [
        {
          "name": "stdout",
          "output_type": "stream",
          "text": [
            "5\n",
            "OOXXOXXOOO\n",
            "OOXXOOXXOO\n",
            "OXOXOXOXOXOXOX\n",
            "OOOOOOOOOO\n",
            "OOOOXOOOOXOOOOX\n",
            "10\n",
            "9\n",
            "7\n",
            "55\n",
            "30\n"
          ]
        }
      ],
      "source": [
        "#8958\n",
        "\n",
        "number = int(input())\n",
        "scores = []\n",
        "for _ in range(number):\n",
        "  test = str(input())\n",
        "  tmp_score = 0\n",
        "  stop_score = 0\n",
        "\n",
        "  # i는 0부터 시작하므로 점수는 i+1로 카운트\n",
        "  # test의 길이만큼 i가 증가하므로 X일때의 초기화조건만 넣어주면 됨.\n",
        "  for i in range(len(test)):\n",
        "    if test[i] == 'X':\n",
        "      stop_score = i+1\n",
        "    tmp_score += i+1 - stop_score\n",
        "\n",
        "  scores.append(tmp_score)\n",
        "\n",
        "for score in scores:\n",
        "  print(score)"
      ]
    },
    {
      "cell_type": "code",
      "execution_count": 8,
      "metadata": {
        "colab": {
          "base_uri": "https://localhost:8080/"
        },
        "id": "E2AXQ7E65dNs",
        "outputId": "3b8763a1-6055-4609-ded6-db0bfccfdf92"
      },
      "outputs": [
        {
          "name": "stdout",
          "output_type": "stream",
          "text": [
            "5\n",
            "5 50 50 70 80 100\n",
            "7 100 95 90 80 70 60 50\n",
            "3 70 90 80\n",
            "3 70 90 81\n",
            "9 100 99 98 97 96 95 94 93 91\n",
            "40.000%\n",
            "57.143%\n",
            "33.333%\n",
            "66.667%\n",
            "55.556%\n"
          ]
        }
      ],
      "source": [
        "#4344\n",
        "C = int(input())\n",
        "output = []\n",
        "for _ in range(C):\n",
        "  scores = list(map(int, input().split()))\n",
        "  N = scores[0]\n",
        "  scores = scores[1:]\n",
        "  average = sum(scores)/N\n",
        "  count = 0\n",
        "\n",
        "  # List의 원소에 접근해서 평균보다 크면 count해줌\n",
        "  for i in scores:\n",
        "    if i > average:\n",
        "      count += 1\n",
        "  tmp = count / N * 100\n",
        "\n",
        "  output.append(round(tmp, 3))\n",
        "\n",
        "for out in output:\n",
        "  print(\"{0:.3f}%\".format(out))"
      ]
    }
  ],
  "metadata": {
    "colab": {
      "name": "Untitled1.ipynb",
      "provenance": []
    },
    "interpreter": {
      "hash": "267354f49b0dcc123d348dc88ba47e54f50d9f40be4827511f5443cfe01df21f"
    },
    "kernelspec": {
      "display_name": "Python 3.8.13 ('DL')",
      "language": "python",
      "name": "python3"
    },
    "language_info": {
      "codemirror_mode": {
        "name": "ipython",
        "version": 3
      },
      "file_extension": ".py",
      "mimetype": "text/x-python",
      "name": "python",
      "nbconvert_exporter": "python",
      "pygments_lexer": "ipython3",
      "version": "3.8.13"
    }
  },
  "nbformat": 4,
  "nbformat_minor": 0
}
